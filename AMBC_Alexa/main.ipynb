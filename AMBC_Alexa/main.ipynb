{
 "cells": [
  {
   "cell_type": "code",
   "execution_count": 55,
   "metadata": {},
   "outputs": [],
   "source": [
    "# pull in dependencies\n",
    "import time\n",
    "import requests\n",
    "from bs4 import BeautifulSoup as bs\n",
    "import pandas as pd"
   ]
  },
  {
   "cell_type": "code",
   "execution_count": 56,
   "metadata": {},
   "outputs": [],
   "source": [
    "url = 'https://ambcknox.org/'"
   ]
  },
  {
   "cell_type": "code",
   "execution_count": 57,
   "metadata": {},
   "outputs": [],
   "source": [
    "response = requests.get(url)\n",
    "soup = bs(response.text, 'html.parser')"
   ]
  },
  {
   "cell_type": "code",
   "execution_count": 58,
   "metadata": {},
   "outputs": [
    {
     "name": "stdout",
     "output_type": "stream",
     "text": [
      "[{'Park Name': 'Baker Creek Bike Park', 'Status': 'Open'}, {'Park Name': 'Loyston Point', 'Status': 'Open'}, {'Park Name': 'Marie Myers Park – AKA: The Year Round Get Down & Drop Inn', 'Status': 'Open'}, {'Park Name': 'Baker Creek Preserve', 'Status': 'Closed'}, {'Park Name': 'Concord Park', 'Status': 'Closed'}, {'Park Name': 'I.C. King Park', 'Status': 'Closed'}, {'Park Name': 'Urban Wilderness', 'Status': 'Closed'}, {'Park Name': 'Sharps Ridge', 'Status': 'Caution'}]\n"
     ]
    }
   ],
   "source": [
    "trail_data = []\n",
    "\n",
    "for trail in soup.find_all('div', class_='status_block status_yes'):\n",
    "    trail_name = trail.find('span', class_='trail_name').text\n",
    "    # trail_name = [span.text.split('-')[0].strip() for span in trail.find('span', class_='trail_name')]\n",
    "    trail_status = trail.find('span', class_='trail_status status_yes').text[0:4]\n",
    "    \n",
    "    \n",
    "    trail_data.append({'Park Name': trail_name, 'Status': trail_status})\n",
    "\n",
    "\n",
    "for trail in soup.find_all('div', class_='status_block status_no'):\n",
    "    trail_name_element = trail.find('span', class_='trail_name')\n",
    "    trail_name = trail_name_element.text.split('-')[0].strip()\n",
    "    # trail_status = \"Closed\"\n",
    "    trail_status = trail.find('span', class_='trail_status status_no').text[0:6]\n",
    "    trail_data.append({'Park Name': trail_name, 'Status': trail_status})\n",
    "\n",
    "\n",
    "\n",
    "for trail in soup.find_all('div', class_='status_block status_maybe'):\n",
    "    trail_name_element = trail.find('span', class_='trail_name')\n",
    "    trail_name = trail_name_element.text.split('-')[0].strip()\n",
    "    # trail_status = \"Maybe\"\n",
    "    trail_status = trail.find('span', class_='trail_status status_maybe').text[0:7]\n",
    "    trail_data.append({'Park Name': trail_name, 'Status': trail_status})\n",
    "\n",
    "\n",
    "print(trail_data)\n",
    " "
   ]
  },
  {
   "cell_type": "code",
   "execution_count": 59,
   "metadata": {},
   "outputs": [
    {
     "data": {
      "text/html": [
       "<div>\n",
       "<style scoped>\n",
       "    .dataframe tbody tr th:only-of-type {\n",
       "        vertical-align: middle;\n",
       "    }\n",
       "\n",
       "    .dataframe tbody tr th {\n",
       "        vertical-align: top;\n",
       "    }\n",
       "\n",
       "    .dataframe thead th {\n",
       "        text-align: right;\n",
       "    }\n",
       "</style>\n",
       "<table border=\"1\" class=\"dataframe\">\n",
       "  <thead>\n",
       "    <tr style=\"text-align: right;\">\n",
       "      <th></th>\n",
       "      <th>Park Name</th>\n",
       "      <th>Status</th>\n",
       "    </tr>\n",
       "  </thead>\n",
       "  <tbody>\n",
       "    <tr>\n",
       "      <th>0</th>\n",
       "      <td>Baker Creek Bike Park</td>\n",
       "      <td>Open</td>\n",
       "    </tr>\n",
       "    <tr>\n",
       "      <th>1</th>\n",
       "      <td>Loyston Point</td>\n",
       "      <td>Open</td>\n",
       "    </tr>\n",
       "    <tr>\n",
       "      <th>2</th>\n",
       "      <td>Marie Myers Park – AKA: The Year Round Get Dow...</td>\n",
       "      <td>Open</td>\n",
       "    </tr>\n",
       "    <tr>\n",
       "      <th>3</th>\n",
       "      <td>Baker Creek Preserve</td>\n",
       "      <td>Closed</td>\n",
       "    </tr>\n",
       "    <tr>\n",
       "      <th>4</th>\n",
       "      <td>Concord Park</td>\n",
       "      <td>Closed</td>\n",
       "    </tr>\n",
       "    <tr>\n",
       "      <th>5</th>\n",
       "      <td>I.C. King Park</td>\n",
       "      <td>Closed</td>\n",
       "    </tr>\n",
       "    <tr>\n",
       "      <th>6</th>\n",
       "      <td>Urban Wilderness</td>\n",
       "      <td>Closed</td>\n",
       "    </tr>\n",
       "    <tr>\n",
       "      <th>7</th>\n",
       "      <td>Sharps Ridge</td>\n",
       "      <td>Caution</td>\n",
       "    </tr>\n",
       "  </tbody>\n",
       "</table>\n",
       "</div>"
      ],
      "text/plain": [
       "                                           Park Name   Status\n",
       "0                              Baker Creek Bike Park     Open\n",
       "1                                      Loyston Point     Open\n",
       "2  Marie Myers Park – AKA: The Year Round Get Dow...     Open\n",
       "3                               Baker Creek Preserve   Closed\n",
       "4                                       Concord Park   Closed\n",
       "5                                     I.C. King Park   Closed\n",
       "6                                   Urban Wilderness   Closed\n",
       "7                                       Sharps Ridge  Caution"
      ]
     },
     "execution_count": 59,
     "metadata": {},
     "output_type": "execute_result"
    }
   ],
   "source": [
    "trail_df = pd.DataFrame(trail_data)\n",
    "trail_df\n"
   ]
  },
  {
   "cell_type": "code",
   "execution_count": 60,
   "metadata": {},
   "outputs": [],
   "source": [
    "trail_df.to_csv('C:\\\\Users\\\\kfinn1\\\\Documents\\\\trails.csv', index=False)"
   ]
  }
 ],
 "metadata": {
  "kernelspec": {
   "display_name": "base",
   "language": "python",
   "name": "python3"
  },
  "language_info": {
   "codemirror_mode": {
    "name": "ipython",
    "version": 3
   },
   "file_extension": ".py",
   "mimetype": "text/x-python",
   "name": "python",
   "nbconvert_exporter": "python",
   "pygments_lexer": "ipython3",
   "version": "3.9.13"
  },
  "orig_nbformat": 4
 },
 "nbformat": 4,
 "nbformat_minor": 2
}
